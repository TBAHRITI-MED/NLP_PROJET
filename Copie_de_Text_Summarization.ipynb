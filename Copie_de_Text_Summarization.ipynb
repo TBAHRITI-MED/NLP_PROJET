{
  "cells": [
    {
      "cell_type": "code",
      "execution_count": 30,
      "metadata": {
        "colab": {
          "base_uri": "https://localhost:8080/",
          "height": 52
        },
        "id": "z9qHcX3Qja1P",
        "outputId": "8848a160-9060-4129-f56e-4c5ab8de98dd"
      },
      "outputs": [
        {
          "data": {
            "text/plain": [
              "'\\n- Get Similarity between sentinces, How the sentences is simler to each other, By calculating the Scoore for each sentence.\\n\\n'"
            ]
          },
          "execution_count": 30,
          "metadata": {},
          "output_type": "execute_result"
        }
      ],
      "source": [
        "# Text Summarization - Cosine Similarity\n",
        "'''\n",
        "- Get Similarity between sentinces, How the sentences is simler to each other, By calculating the Scoore for each sentence.\n",
        "\n",
        "'''"
      ]
    },
    {
      "cell_type": "code",
      "execution_count": 31,
      "metadata": {
        "id": "Mp4vZBBIja1Q"
      },
      "outputs": [],
      "source": [
        "import re # Regex lib\n",
        "import nltk # Natural Language Processing lib\n",
        "import string\n",
        "import numpy as np # to get access to Vectors and matrix\n",
        "import networkx as nx # generate a graph structure\n",
        "from nltk.cluster.util import cosine_distance # function used to calculate the similarity of sentences"
      ]
    },
    {
      "cell_type": "code",
      "execution_count": 32,
      "metadata": {
        "colab": {
          "base_uri": "https://localhost:8080/"
        },
        "id": "6Bco0TgBja1Q",
        "outputId": "f2750604-5f87-49bf-d2b8-f8c8398bd71a"
      },
      "outputs": [
        {
          "name": "stderr",
          "output_type": "stream",
          "text": [
            "[nltk_data] Downloading package punkt to\n",
            "[nltk_data]     /Users/mohammedtbahriti/nltk_data...\n",
            "[nltk_data]   Package punkt is already up-to-date!\n",
            "[nltk_data] Downloading package stopwords to\n",
            "[nltk_data]     /Users/mohammedtbahriti/nltk_data...\n",
            "[nltk_data]   Package stopwords is already up-to-date!\n"
          ]
        },
        {
          "data": {
            "text/plain": [
              "True"
            ]
          },
          "execution_count": 32,
          "metadata": {},
          "output_type": "execute_result"
        }
      ],
      "source": [
        "nltk.download('punkt') # to have access to sentences Tokenization\n",
        "nltk.download('stopwords') # get access to Stopwords"
      ]
    },
    {
      "cell_type": "code",
      "execution_count": 33,
      "metadata": {
        "colab": {
          "base_uri": "https://localhost:8080/"
        },
        "id": "cWBEmKGLja1R",
        "outputId": "34f47586-a004-4cdf-bb07-35dfdcb46aba"
      },
      "outputs": [
        {
          "name": "stdout",
          "output_type": "stream",
          "text": [
            "['i', 'me', 'my', 'myself', 'we', 'our', 'ours', 'ourselves', 'you', \"you're\", \"you've\", \"you'll\", \"you'd\", 'your', 'yours', 'yourself', 'yourselves', 'he', 'him', 'his', 'himself', 'she', \"she's\", 'her', 'hers', 'herself', 'it', \"it's\", 'its', 'itself', 'they', 'them', 'their', 'theirs', 'themselves', 'what', 'which', 'who', 'whom', 'this', 'that', \"that'll\", 'these', 'those', 'am', 'is', 'are', 'was', 'were', 'be', 'been', 'being', 'have', 'has', 'had', 'having', 'do', 'does', 'did', 'doing', 'a', 'an', 'the', 'and', 'but', 'if', 'or', 'because', 'as', 'until', 'while', 'of', 'at', 'by', 'for', 'with', 'about', 'against', 'between', 'into', 'through', 'during', 'before', 'after', 'above', 'below', 'to', 'from', 'up', 'down', 'in', 'out', 'on', 'off', 'over', 'under', 'again', 'further', 'then', 'once', 'here', 'there', 'when', 'where', 'why', 'how', 'all', 'any', 'both', 'each', 'few', 'more', 'most', 'other', 'some', 'such', 'no', 'nor', 'not', 'only', 'own', 'same', 'so', 'than', 'too', 'very', 's', 't', 'can', 'will', 'just', 'don', \"don't\", 'should', \"should've\", 'now', 'd', 'll', 'm', 'o', 're', 've', 'y', 'ain', 'aren', \"aren't\", 'couldn', \"couldn't\", 'didn', \"didn't\", 'doesn', \"doesn't\", 'hadn', \"hadn't\", 'hasn', \"hasn't\", 'haven', \"haven't\", 'isn', \"isn't\", 'ma', 'mightn', \"mightn't\", 'mustn', \"mustn't\", 'needn', \"needn't\", 'shan', \"shan't\", 'shouldn', \"shouldn't\", 'wasn', \"wasn't\", 'weren', \"weren't\", 'won', \"won't\", 'wouldn', \"wouldn't\"]\n"
          ]
        }
      ],
      "source": [
        "stopwords = nltk.corpus.stopwords.words('english') # Words to be removed from each sentence\n",
        "print(stopwords)"
      ]
    },
    {
      "cell_type": "code",
      "execution_count": 34,
      "metadata": {
        "id": "k2YWZMcRja1R"
      },
      "outputs": [],
      "source": [
        "def preprocess_sentences(text):\n",
        "    processed_text = text.lower()\n",
        "    tokens = []\n",
        "    for token in nltk.word_tokenize(processed_text):\n",
        "        tokens.append(token)\n",
        "    tokens = [word for word in tokens if word not in stopwords and word not in string.punctuation]\n",
        "    processed_text = ' '.join(element for element in tokens)\n",
        "    return processed_text"
      ]
    },
    {
      "cell_type": "code",
      "execution_count": 35,
      "metadata": {
        "colab": {
          "base_uri": "https://localhost:8080/",
          "height": 209
        },
        "id": "srY7uZcHja1R",
        "outputId": "c684f36f-4316-4f45-8104-fa637412fd8a"
      },
      "outputs": [
        {
          "data": {
            "text/plain": [
              "'Algeria (Arabic: الجزائر Tamazight:Dzayer), officially the People’s Democratic Republic of Algeria, is a State of North Africa which is a part of the Maghreb. It is the biggest country lining the Mediterranean Sea and the vaster first one of Africa. It shares ground borders in the northeast with Tunisia, in the East with Libya, in the South with Niger and Mali, in the southwest with Mauritania and territory of the Western Sahara, and on the West with Morocco. Algeria is a member of the United Nations (UN), of the African Union (AU) and the League of Arab States almost since independence in 1962. It joined the Organization of the Petroleum Exporting Countries (OPEC) in 1969. In February 1989, Algeria took part, along with the other Maghreb states, in the creation of the organization of the Arab Maghreb Union (AMU). The Algerian Constitution defines \"Islam, Arabity and Amazighness\" as \"fundamental components\" of the identity of the Algerian people and the country as \"land of Islam, an integral part of the Greater Maghreb, Mediterranean and African\". Area : 2 381 741 km². Population : 43,9 million inhabitants (estimate January 2020). Density : 18people / Km². Capital city: Algiers. Languages : Arabic and Tamazight. Religion : Sunni Islam. Currency : Algerian dinar. Political regime : Democratic and popular republic. Head of the State : Mr Abdelmadjid Tebboune.'"
            ]
          },
          "execution_count": 35,
          "metadata": {},
          "output_type": "execute_result"
        }
      ],
      "source": [
        "# The orginal Paragraph from Wikipedia: https://en.wikipedia.org/wiki/Samurai\n",
        "original_text = \"\"\"Algeria (Arabic: الجزائر Tamazight:Dzayer), officially the People’s Democratic Republic of Algeria, is a State of North Africa which is a part of the Maghreb. It is the biggest country lining the Mediterranean Sea and the vaster first one of Africa. It shares ground borders in the northeast with Tunisia, in the East with Libya, in the South with Niger and Mali, in the southwest with Mauritania and territory of the Western Sahara, and on the West with Morocco.\n",
        "\n",
        "Algeria is a member of the United Nations (UN), of the African Union (AU) and the League of Arab States almost since independence in 1962. It joined the Organization of the Petroleum Exporting Countries (OPEC) in 1969. In February 1989, Algeria took part, along with the other Maghreb states, in the creation of the organization of the Arab Maghreb Union (AMU).\n",
        "\n",
        "The Algerian Constitution defines \"Islam, Arabity and Amazighness\" as \"fundamental components\" of the identity of the Algerian people and the country as \"land of Islam, an integral part of the Greater Maghreb, Mediterranean and African\".\n",
        "\n",
        "Area : 2 381 741 km².\n",
        "Population : 43,9 million inhabitants (estimate January 2020).\n",
        "Density : 18people / Km².\n",
        "Capital city: Algiers.\n",
        "Languages : Arabic and Tamazight.\n",
        "Religion : Sunni Islam.\n",
        "Currency : Algerian dinar.\n",
        "Political regime : Democratic and popular republic.\n",
        "Head of the State : Mr Abdelmadjid Tebboune.\"\"\"\n",
        "\n",
        "original_text = re.sub(r'\\s+', ' ', original_text)\n",
        "original_text # final text to test the algorithm"
      ]
    },
    {
      "cell_type": "code",
      "execution_count": 36,
      "metadata": {
        "colab": {
          "base_uri": "https://localhost:8080/"
        },
        "id": "xbqW9hpkja1S",
        "outputId": "c7816c1f-686f-4c03-b317-5f7caa660d57"
      },
      "outputs": [
        {
          "data": {
            "text/plain": [
              "['Algeria (Arabic: الجزائر Tamazight:Dzayer), officially the People’s Democratic Republic of Algeria, is a State of North Africa which is a part of the Maghreb.',\n",
              " 'It is the biggest country lining the Mediterranean Sea and the vaster first one of Africa.',\n",
              " 'It shares ground borders in the northeast with Tunisia, in the East with Libya, in the South with Niger and Mali, in the southwest with Mauritania and territory of the Western Sahara, and on the West with Morocco.',\n",
              " 'Algeria is a member of the United Nations (UN), of the African Union (AU) and the League of Arab States almost since independence in 1962.',\n",
              " 'It joined the Organization of the Petroleum Exporting Countries (OPEC) in 1969.',\n",
              " 'In February 1989, Algeria took part, along with the other Maghreb states, in the creation of the organization of the Arab Maghreb Union (AMU).',\n",
              " 'The Algerian Constitution defines \"Islam, Arabity and Amazighness\" as \"fundamental components\" of the identity of the Algerian people and the country as \"land of Islam, an integral part of the Greater Maghreb, Mediterranean and African\".',\n",
              " 'Area : 2 381 741 km².',\n",
              " 'Population : 43,9 million inhabitants (estimate January 2020).',\n",
              " 'Density : 18people / Km².',\n",
              " 'Capital city: Algiers.',\n",
              " 'Languages : Arabic and Tamazight.',\n",
              " 'Religion : Sunni Islam.',\n",
              " 'Currency : Algerian dinar.',\n",
              " 'Political regime : Democratic and popular republic.',\n",
              " 'Head of the State : Mr Abdelmadjid Tebboune.']"
            ]
          },
          "execution_count": 36,
          "metadata": {},
          "output_type": "execute_result"
        }
      ],
      "source": [
        "\"\"\"\n",
        "- Calculate how similar are the sentences to each others\n",
        "\"\"\"\n",
        "\n",
        "oreginal_sentences = [sentence for sentence in nltk.sent_tokenize(original_text)]\n",
        "oreginal_sentences # view sentence by sentence"
      ]
    },
    {
      "cell_type": "code",
      "execution_count": 37,
      "metadata": {
        "colab": {
          "base_uri": "https://localhost:8080/"
        },
        "id": "A0E-Es2Mja1S",
        "outputId": "962b6124-ffc6-4ca9-91b2-d1a027401b43"
      },
      "outputs": [
        {
          "data": {
            "text/plain": [
              "['algeria arabic الجزائر tamazight dzayer officially people ’ democratic republic algeria state north africa part maghreb',\n",
              " 'biggest country lining mediterranean sea vaster first one africa',\n",
              " 'shares ground borders northeast tunisia east libya south niger mali southwest mauritania territory western sahara west morocco',\n",
              " 'algeria member united nations un african union au league arab states almost since independence 1962',\n",
              " 'joined organization petroleum exporting countries opec 1969',\n",
              " 'february 1989 algeria took part along maghreb states creation organization arab maghreb union amu',\n",
              " \"algerian constitution defines `` islam arabity amazighness '' `` fundamental components '' identity algerian people country `` land islam integral part greater maghreb mediterranean african ''\",\n",
              " 'area 2 381 741 km²',\n",
              " 'population 43,9 million inhabitants estimate january 2020',\n",
              " 'density 18people km²',\n",
              " 'capital city algiers',\n",
              " 'languages arabic tamazight',\n",
              " 'religion sunni islam',\n",
              " 'currency algerian dinar',\n",
              " 'political regime democratic popular republic',\n",
              " 'head state mr abdelmadjid tebboune']"
            ]
          },
          "execution_count": 37,
          "metadata": {},
          "output_type": "execute_result"
        }
      ],
      "source": [
        "formatted_sentences = [preprocess_sentences(oreginal_sentence) for oreginal_sentence in oreginal_sentences]\n",
        "formatted_sentences"
      ]
    },
    {
      "cell_type": "code",
      "execution_count": 38,
      "metadata": {
        "id": "Bm459KO9ja1S"
      },
      "outputs": [],
      "source": [
        "def calculate_sentence_similarity(sentence1, sentence2):\n",
        "    words1 = [word for word in nltk.word_tokenize(sentence1)]\n",
        "    words2 = [word for word in nltk.word_tokenize(sentence2)]\n",
        "    #print(words2)\n",
        "    # calculate_sentence_similarity(formatted_sentences[0], formatted_sentences[1])\n",
        "    # get uniqes words insted of a repeated words\n",
        "\n",
        "    all_words = list(set(words1 + words2))\n",
        "\n",
        "    #print(all_words)\n",
        "\n",
        "    # get a zeros vector / Needed for Mathematical calculation\n",
        "    #                                   also we need to convert the words to a mathematical forms so we can apply the\n",
        "    #                                   equation.\n",
        "    vector1 = [0] * len(all_words)\n",
        "    vector2 = [0] * len(all_words)\n",
        "\n",
        "     # to convert text to number we will use the \"Bag of words\" techniqe\n",
        "    for word in words1:\n",
        "        #print(word)\n",
        "        vector1[all_words.index(word)] += 1\n",
        "\n",
        "    for word in words2:\n",
        "        vector2[all_words.index(word)] += 1\n",
        "\n",
        "    #print(vector2)\n",
        "    return 1 - cosine_distance(vector1, vector2)   # because its always return the abs value"
      ]
    },
    {
      "cell_type": "code",
      "execution_count": 39,
      "metadata": {
        "colab": {
          "base_uri": "https://localhost:8080/"
        },
        "id": "Pu8kTHSpja1S",
        "outputId": "f8512ea4-fa5d-473d-ba1d-6a91e6555bbd"
      },
      "outputs": [
        {
          "data": {
            "text/plain": [
              "0.0785674201318386"
            ]
          },
          "execution_count": 39,
          "metadata": {},
          "output_type": "execute_result"
        }
      ],
      "source": [
        "calculate_sentence_similarity(formatted_sentences[0], formatted_sentences[1])\n",
        "# 0.0"
      ]
    },
    {
      "cell_type": "code",
      "execution_count": 40,
      "metadata": {
        "id": "-aWDPc9Wja1S"
      },
      "outputs": [],
      "source": [
        "# Function to create the similarity matrix\n",
        "# The Higher the value, the greater the similarity between the sentences\n",
        "# The more words in common, the grater the similarity\n",
        "\n",
        "def calculate_similarity_matrix(sentences):\n",
        "    # if we have 8 sentences then we should create 8X8 matrix\n",
        "    similarity_matrix = np.zeros((len(sentences), len(sentences)))\n",
        "    #print(similarity_matrix)\n",
        "    for i in range(len(sentences)):\n",
        "        for j in range(len(sentences)):\n",
        "            if i == j:\n",
        "                continue\n",
        "            similarity_matrix[i][j] = calculate_sentence_similarity(sentences[i], sentences[j])\n",
        "    return similarity_matrix\n"
      ]
    },
    {
      "cell_type": "code",
      "execution_count": 41,
      "metadata": {
        "colab": {
          "base_uri": "https://localhost:8080/"
        },
        "id": "qeQn5HjFja1T",
        "outputId": "b7d94895-9dc1-4b2d-dde4-060cea231532"
      },
      "outputs": [
        {
          "data": {
            "text/plain": [
              "array([[0.        , 0.07856742, 0.        , 0.12171612, 0.        ,\n",
              "        0.29462783, 0.09128709, 0.        , 0.        , 0.        ,\n",
              "        0.        , 0.27216553, 0.        , 0.        , 0.21081851,\n",
              "        0.10540926],\n",
              "       [0.07856742, 0.        , 0.        , 0.        , 0.        ,\n",
              "        0.        , 0.0860663 , 0.        , 0.        , 0.        ,\n",
              "        0.        , 0.        , 0.        , 0.        , 0.        ,\n",
              "        0.        ],\n",
              "       [0.        , 0.        , 0.        , 0.        , 0.        ,\n",
              "        0.        , 0.        , 0.        , 0.        , 0.        ,\n",
              "        0.        , 0.        , 0.        , 0.        , 0.        ,\n",
              "        0.        ],\n",
              "       [0.12171612, 0.        , 0.        , 0.        , 0.        ,\n",
              "        0.25819889, 0.03333333, 0.        , 0.        , 0.        ,\n",
              "        0.        , 0.        , 0.        , 0.        , 0.        ,\n",
              "        0.        ],\n",
              "       [0.        , 0.        , 0.        , 0.        , 0.        ,\n",
              "        0.09449112, 0.        , 0.        , 0.        , 0.        ,\n",
              "        0.        , 0.        , 0.        , 0.        , 0.        ,\n",
              "        0.        ],\n",
              "       [0.29462783, 0.        , 0.        , 0.25819889, 0.09449112,\n",
              "        0.        , 0.09682458, 0.        , 0.        , 0.        ,\n",
              "        0.        , 0.        , 0.        , 0.        , 0.        ,\n",
              "        0.        ],\n",
              "       [0.09128709, 0.0860663 , 0.        , 0.03333333, 0.        ,\n",
              "        0.09682458, 0.        , 0.        , 0.        , 0.        ,\n",
              "        0.        , 0.        , 0.1490712 , 0.1490712 , 0.        ,\n",
              "        0.        ],\n",
              "       [0.        , 0.        , 0.        , 0.        , 0.        ,\n",
              "        0.        , 0.        , 0.        , 0.        , 0.25819889,\n",
              "        0.        , 0.        , 0.        , 0.        , 0.        ,\n",
              "        0.        ],\n",
              "       [0.        , 0.        , 0.        , 0.        , 0.        ,\n",
              "        0.        , 0.        , 0.        , 0.        , 0.        ,\n",
              "        0.        , 0.        , 0.        , 0.        , 0.        ,\n",
              "        0.        ],\n",
              "       [0.        , 0.        , 0.        , 0.        , 0.        ,\n",
              "        0.        , 0.        , 0.25819889, 0.        , 0.        ,\n",
              "        0.        , 0.        , 0.        , 0.        , 0.        ,\n",
              "        0.        ],\n",
              "       [0.        , 0.        , 0.        , 0.        , 0.        ,\n",
              "        0.        , 0.        , 0.        , 0.        , 0.        ,\n",
              "        0.        , 0.        , 0.        , 0.        , 0.        ,\n",
              "        0.        ],\n",
              "       [0.27216553, 0.        , 0.        , 0.        , 0.        ,\n",
              "        0.        , 0.        , 0.        , 0.        , 0.        ,\n",
              "        0.        , 0.        , 0.        , 0.        , 0.        ,\n",
              "        0.        ],\n",
              "       [0.        , 0.        , 0.        , 0.        , 0.        ,\n",
              "        0.        , 0.1490712 , 0.        , 0.        , 0.        ,\n",
              "        0.        , 0.        , 0.        , 0.        , 0.        ,\n",
              "        0.        ],\n",
              "       [0.        , 0.        , 0.        , 0.        , 0.        ,\n",
              "        0.        , 0.1490712 , 0.        , 0.        , 0.        ,\n",
              "        0.        , 0.        , 0.        , 0.        , 0.        ,\n",
              "        0.        ],\n",
              "       [0.21081851, 0.        , 0.        , 0.        , 0.        ,\n",
              "        0.        , 0.        , 0.        , 0.        , 0.        ,\n",
              "        0.        , 0.        , 0.        , 0.        , 0.        ,\n",
              "        0.        ],\n",
              "       [0.10540926, 0.        , 0.        , 0.        , 0.        ,\n",
              "        0.        , 0.        , 0.        , 0.        , 0.        ,\n",
              "        0.        , 0.        , 0.        , 0.        , 0.        ,\n",
              "        0.        ]])"
            ]
          },
          "execution_count": 41,
          "metadata": {},
          "output_type": "execute_result"
        }
      ],
      "source": [
        "calculate_similarity_matrix(formatted_sentences)\n",
        "# Each row is a sentence, each cell represent the semelarity between the current sentence and the next sentence\n",
        "#"
      ]
    },
    {
      "cell_type": "code",
      "execution_count": 42,
      "metadata": {
        "id": "Nm8oanGXja1T"
      },
      "outputs": [],
      "source": [
        "# Function to summarize the texts\n",
        "\n",
        "def summrize(text, number_of_sentences):\n",
        "    original_sentences = [sentence for sentence in nltk.sent_tokenize(text)]\n",
        "    formatted_sentences = [preprocess_sentences(original_sentence) for original_sentence in original_sentences]\n",
        "    similarity_matrix = calculate_similarity_matrix(formatted_sentences)\n",
        "\n",
        "\n",
        "    similarity_graph = nx.from_numpy_array(similarity_matrix)\n",
        "\n",
        "    scores = nx.pagerank(similarity_graph)\n",
        "\n",
        "    order_scores = sorted(((scores[i], score) for i, score in enumerate(original_sentences)), reverse=True)\n",
        "\n",
        "\n",
        "    best_sentences = []\n",
        "    for sentence in range(number_of_sentences):\n",
        "        best_sentences.append(order_scores[sentence][1])\n",
        "    return original_sentences, best_sentences, order_scores\n"
      ]
    },
    {
      "cell_type": "code",
      "execution_count": 43,
      "metadata": {
        "colab": {
          "base_uri": "https://localhost:8080/",
          "height": 270
        },
        "id": "paPF3Ozjja1T",
        "outputId": "00a20833-0ea2-46a4-cf4c-673fb34b9691"
      },
      "outputs": [],
      "source": [
        "\n",
        "original_sentences, best_sentences, order_scores = summrize(original_text, 3)\n",
        "# [(0, 1), (0, 3), (0, 7), (1, 2), (1, 4), (1, 7), (2, 4), (2, 5), (3, 7), (4, 7), (5, 7)]\n",
        "# first group means: first sentence is related to second sentence\n",
        "#\n"
      ]
    },
    {
      "cell_type": "code",
      "execution_count": 44,
      "metadata": {
        "colab": {
          "base_uri": "https://localhost:8080/"
        },
        "id": "Ey11MiC2ja1T",
        "outputId": "f1b507fc-adb4-48c9-c7cf-cd6d4faca3e5"
      },
      "outputs": [
        {
          "data": {
            "text/plain": [
              "['Algeria (Arabic: الجزائر Tamazight:Dzayer), officially the People’s Democratic Republic of Algeria, is a State of North Africa which is a part of the Maghreb.',\n",
              " 'It is the biggest country lining the Mediterranean Sea and the vaster first one of Africa.',\n",
              " 'It shares ground borders in the northeast with Tunisia, in the East with Libya, in the South with Niger and Mali, in the southwest with Mauritania and territory of the Western Sahara, and on the West with Morocco.',\n",
              " 'Algeria is a member of the United Nations (UN), of the African Union (AU) and the League of Arab States almost since independence in 1962.',\n",
              " 'It joined the Organization of the Petroleum Exporting Countries (OPEC) in 1969.',\n",
              " 'In February 1989, Algeria took part, along with the other Maghreb states, in the creation of the organization of the Arab Maghreb Union (AMU).',\n",
              " 'The Algerian Constitution defines \"Islam, Arabity and Amazighness\" as \"fundamental components\" of the identity of the Algerian people and the country as \"land of Islam, an integral part of the Greater Maghreb, Mediterranean and African\".',\n",
              " 'Area : 2 381 741 km².',\n",
              " 'Population : 43,9 million inhabitants (estimate January 2020).',\n",
              " 'Density : 18people / Km².',\n",
              " 'Capital city: Algiers.',\n",
              " 'Languages : Arabic and Tamazight.',\n",
              " 'Religion : Sunni Islam.',\n",
              " 'Currency : Algerian dinar.',\n",
              " 'Political regime : Democratic and popular republic.',\n",
              " 'Head of the State : Mr Abdelmadjid Tebboune.']"
            ]
          },
          "execution_count": 44,
          "metadata": {},
          "output_type": "execute_result"
        }
      ],
      "source": [
        "original_sentences"
      ]
    },
    {
      "cell_type": "code",
      "execution_count": 45,
      "metadata": {
        "colab": {
          "base_uri": "https://localhost:8080/"
        },
        "id": "baWZcjTPja1T",
        "outputId": "76cc8fa0-2238-481c-d515-6de26ece1ae8"
      },
      "outputs": [
        {
          "data": {
            "text/plain": [
              "['Algeria (Arabic: الجزائر Tamazight:Dzayer), officially the People’s Democratic Republic of Algeria, is a State of North Africa which is a part of the Maghreb.',\n",
              " 'In February 1989, Algeria took part, along with the other Maghreb states, in the creation of the organization of the Arab Maghreb Union (AMU).',\n",
              " 'The Algerian Constitution defines \"Islam, Arabity and Amazighness\" as \"fundamental components\" of the identity of the Algerian people and the country as \"land of Islam, an integral part of the Greater Maghreb, Mediterranean and African\".']"
            ]
          },
          "execution_count": 45,
          "metadata": {},
          "output_type": "execute_result"
        }
      ],
      "source": [
        "best_sentences # top 3"
      ]
    },
    {
      "cell_type": "code",
      "execution_count": 46,
      "metadata": {
        "colab": {
          "base_uri": "https://localhost:8080/"
        },
        "id": "CJDKJ0_Pja1T",
        "outputId": "cd27d5b6-484e-4020-8c0d-fce2eee38e23"
      },
      "outputs": [
        {
          "data": {
            "text/plain": [
              "[(0.21393622083704042,\n",
              "  'Algeria (Arabic: الجزائر Tamazight:Dzayer), officially the People’s Democratic Republic of Algeria, is a State of North Africa which is a part of the Maghreb.'),\n",
              " (0.13645293169211165,\n",
              "  'In February 1989, Algeria took part, along with the other Maghreb states, in the creation of the organization of the Arab Maghreb Union (AMU).'),\n",
              " (0.1268388128537343,\n",
              "  'The Algerian Constitution defines \"Islam, Arabity and Amazighness\" as \"fundamental components\" of the identity of the Algerian people and the country as \"land of Islam, an integral part of the Greater Maghreb, Mediterranean and African\".'),\n",
              " (0.07617384792882761,\n",
              "  'Algeria is a member of the United Nations (UN), of the African Union (AU) and the League of Arab States almost since independence in 1962.'),\n",
              " (0.07434944237918215, 'Density : 18people / Km².'),\n",
              " (0.07434944237918215, 'Area : 2 381 741 km².'),\n",
              " (0.053287257266167176, 'Languages : Arabic and Tamazight.'),\n",
              " (0.04378992378423304, 'Political regime : Democratic and popular republic.'),\n",
              " (0.038636310139619615,\n",
              "  'It is the biggest country lining the Mediterranean Sea and the vaster first one of Africa.'),\n",
              " (0.03768849632376842, 'Religion : Sunni Islam.'),\n",
              " (0.03768849632376842, 'Currency : Algerian dinar.'),\n",
              " (0.027471170070555183, 'Head of the State : Mr Abdelmadjid Tebboune.'),\n",
              " (0.025880398951177445,\n",
              "  'It joined the Organization of the Petroleum Exporting Countries (OPEC) in 1969.'),\n",
              " (0.011152416356877325,\n",
              "  'Population : 43,9 million inhabitants (estimate January 2020).'),\n",
              " (0.011152416356877325,\n",
              "  'It shares ground borders in the northeast with Tunisia, in the East with Libya, in the South with Niger and Mali, in the southwest with Mauritania and territory of the Western Sahara, and on the West with Morocco.'),\n",
              " (0.011152416356877325, 'Capital city: Algiers.')]"
            ]
          },
          "execution_count": 46,
          "metadata": {},
          "output_type": "execute_result"
        }
      ],
      "source": [
        "order_scores"
      ]
    },
    {
      "cell_type": "code",
      "execution_count": 47,
      "metadata": {
        "id": "3bPPFHklja1T"
      },
      "outputs": [],
      "source": [
        "# Visualize the Final Output\n",
        "\n",
        "from IPython.core.display import HTML\n",
        "def visualize(title, sentence_list, best_sentences):\n",
        "    text = ''\n",
        "\n",
        "    display(HTML(f'<h1>Summary - {title}</h1>'))\n",
        "    for sentence in sentence_list:\n",
        "        if sentence in best_sentences:\n",
        "            text += ' ' + str(sentence).replace(sentence, f\"<mark>{sentence}</mark>\")\n",
        "        else:\n",
        "            text += ' ' + sentence\n",
        "    display(HTML(f\"\"\" {text} \"\"\"))\n",
        "    "
      ]
    },
    {
      "cell_type": "code",
      "execution_count": 48,
      "metadata": {
        "colab": {
          "base_uri": "https://localhost:8080/",
          "height": 265
        },
        "id": "1J4lp9vsja1T",
        "outputId": "5ff1cb29-1c5c-438e-8f90-ddf5f7f93ee1"
      },
      "outputs": [
        {
          "data": {
            "text/html": [
              "<h1>Summary - </h1>"
            ],
            "text/plain": [
              "<IPython.core.display.HTML object>"
            ]
          },
          "metadata": {},
          "output_type": "display_data"
        },
        {
          "data": {
            "text/html": [
              "  <mark>Algeria (Arabic: الجزائر Tamazight:Dzayer), officially the People’s Democratic Republic of Algeria, is a State of North Africa which is a part of the Maghreb.</mark> It is the biggest country lining the Mediterranean Sea and the vaster first one of Africa. It shares ground borders in the northeast with Tunisia, in the East with Libya, in the South with Niger and Mali, in the southwest with Mauritania and territory of the Western Sahara, and on the West with Morocco. Algeria is a member of the United Nations (UN), of the African Union (AU) and the League of Arab States almost since independence in 1962. It joined the Organization of the Petroleum Exporting Countries (OPEC) in 1969. <mark>In February 1989, Algeria took part, along with the other Maghreb states, in the creation of the organization of the Arab Maghreb Union (AMU).</mark> <mark>The Algerian Constitution defines \"Islam, Arabity and Amazighness\" as \"fundamental components\" of the identity of the Algerian people and the country as \"land of Islam, an integral part of the Greater Maghreb, Mediterranean and African\".</mark> Area : 2 381 741 km². Population : 43,9 million inhabitants (estimate January 2020). Density : 18people / Km². Capital city: Algiers. Languages : Arabic and Tamazight. Religion : Sunni Islam. Currency : Algerian dinar. Political regime : Democratic and popular republic. Head of the State : Mr Abdelmadjid Tebboune. "
            ],
            "text/plain": [
              "<IPython.core.display.HTML object>"
            ]
          },
          "metadata": {},
          "output_type": "display_data"
        }
      ],
      "source": [
        "visualize(\"\", original_sentences, best_sentences)\n",
        "\n"
      ]
    },
    {
      "cell_type": "code",
      "execution_count": 49,
      "metadata": {
        "colab": {
          "base_uri": "https://localhost:8080/"
        },
        "id": "YiHvUWGeipr0",
        "outputId": "57217818-a4ae-4268-8246-6a0ce1911b76"
      },
      "outputs": [
        {
          "name": "stderr",
          "output_type": "stream",
          "text": [
            "All PyTorch model weights were used when initializing TFBertForQuestionAnswering.\n",
            "\n",
            "All the weights of TFBertForQuestionAnswering were initialized from the PyTorch model.\n",
            "If your task is similar to the task the model of the checkpoint was trained on, you can already use TFBertForQuestionAnswering for predictions without further training.\n"
          ]
        },
        {
          "name": "stdout",
          "output_type": "stream",
          "text": [
            "Answer: the maghreb\n"
          ]
        }
      ],
      "source": [
        "import tensorflow as tf\n",
        "from transformers import TFAutoModelForQuestionAnswering, AutoTokenizer\n",
        "\n",
        "# Load pre-trained model and tokenizer\n",
        "model_name = \"bert-large-uncased-whole-word-masking-finetuned-squad\"\n",
        "tokenizer = AutoTokenizer.from_pretrained(model_name)\n",
        "model = TFAutoModelForQuestionAnswering.from_pretrained(model_name)\n",
        "\n",
        "\n",
        "# Example question\n",
        "question = \"what is this region \"\n",
        "\n",
        "# Tokenize inputs\n",
        "inputs = tokenizer(question, original_text, return_tensors=\"tf\")\n",
        "\n",
        "# Get answer\n",
        "outputs = model(inputs)\n",
        "answer_start_scores = outputs.start_logits\n",
        "answer_end_scores = outputs.end_logits\n",
        "\n",
        "# Get the most likely answer\n",
        "answer_start = tf.argmax(answer_start_scores, axis=1).numpy()[0]\n",
        "answer_end = tf.argmax(answer_end_scores, axis=1).numpy()[0] + 1\n",
        "answer = tokenizer.convert_tokens_to_string(tokenizer.convert_ids_to_tokens(inputs[\"input_ids\"].numpy()[0][answer_start:answer_end]))\n",
        "\n",
        "print(\"Answer:\", answer)\n"
      ]
    },
    {
      "cell_type": "code",
      "execution_count": 50,
      "metadata": {},
      "outputs": [
        {
          "name": "stdout",
          "output_type": "stream",
          "text": [
            "Answer: the maghreb\n"
          ]
        }
      ],
      "source": [
        "# Example question\n",
        "question = \"what is this region \"\n",
        "\n",
        "# Tokenize inputs\n",
        "inputs = tokenizer(question, original_text, return_tensors=\"tf\")\n",
        "\n",
        "# Get answer\n",
        "outputs = model(inputs)\n",
        "answer_start_scores = outputs.start_logits\n",
        "answer_end_scores = outputs.end_logits\n",
        "\n",
        "# Get the most likely answer\n",
        "answer_start = tf.argmax(answer_start_scores, axis=1).numpy()[0]\n",
        "answer_end = tf.argmax(answer_end_scores, axis=1).numpy()[0] + 1\n",
        "answer = tokenizer.convert_tokens_to_string(tokenizer.convert_ids_to_tokens(inputs[\"input_ids\"].numpy()[0][answer_start:answer_end]))\n",
        "\n",
        "print(\"Answer:\", answer)\n"
      ]
    },
    {
      "cell_type": "code",
      "execution_count": 2,
      "metadata": {},
      "outputs": [
        {
          "name": "stdout",
          "output_type": "stream",
          "text": [
            "Résumé du texte:\n",
            "-  \n",
            "Le Machine Learning est une branche de l'intelligence artificielle qui se concentre sur l'étude et le développement de techniques permettant aux ordinateurs d'apprendre à exécuter des tâches sans être explicitement programmés pour les faire.\n",
            "-  L'apprentissage non supervisé consiste à entraîner un modèle sur un ensemble de données non étiquetées, où le modèle doit découvrir des structures ou des modèles par lui-même.\n",
            "-  L'apprentissage supervisé consiste à entraîner un modèle sur un ensemble de données étiquetées, où chaque exemple est associé à une étiquette de sortie.\n"
          ]
        }
      ],
      "source": [
        "\n",
        "\n",
        "\n",
        "# Texte d'entrée\n",
        "input_text = \"\"\"\n",
        "Le Machine Learning est une branche de l'intelligence artificielle qui se concentre sur l'étude et le développement de techniques permettant aux ordinateurs d'apprendre à exécuter des tâches sans être explicitement programmés pour les faire. Le Machine Learning explore l'étude et la construction d'algorithmes qui peuvent apprendre à partir et effectuer des prédictions sur les données. Ces algorithmes permettent aux ordinateurs de trouver des modèles cachés ou des informations précieuses sans être explicitement programmés pour le faire.\n",
        "\n",
        "Il existe différents types de techniques de Machine Learning, notamment l'apprentissage supervisé, l'apprentissage non supervisé et l'apprentissage par renforcement. L'apprentissage supervisé consiste à entraîner un modèle sur un ensemble de données étiquetées, où chaque exemple est associé à une étiquette de sortie. L'apprentissage non supervisé consiste à entraîner un modèle sur un ensemble de données non étiquetées, où le modèle doit découvrir des structures ou des modèles par lui-même. Enfin, l'apprentissage par renforcement consiste à entraîner un agent à prendre des décisions dans un environnement pour maximiser une récompense cumulative.\n",
        "\n",
        "Le Machine Learning est largement utilisé dans de nombreux domaines, notamment la reconnaissance vocale, la vision par ordinateur, la recherche en biologie, la finance, la médecine et bien d'autres. Il joue un rôle crucial dans le développement de technologies telles que les voitures autonomes, les assistants virtuels et les systèmes de recommandation.\n",
        "\"\"\"\n",
        "\n",
        "# Appel de la fonction summarize pour obtenir un résumé du texte\n",
        "summary = summarize(input_text, 3)\n",
        "\n",
        "# Affichage du résumé\n",
        "print(\"Résumé du texte:\")\n",
        "for sentence in summary:\n",
        "    print(\"- \", sentence)\n"
      ]
    },
    {
      "cell_type": "code",
      "execution_count": 3,
      "metadata": {},
      "outputs": [
        {
          "name": "stderr",
          "output_type": "stream",
          "text": [
            "[nltk_data] Downloading package vader_lexicon to\n",
            "[nltk_data]     /Users/mohammedtbahriti/nltk_data...\n",
            "[nltk_data]   Package vader_lexicon is already up-to-date!\n"
          ]
        },
        {
          "data": {
            "text/plain": [
              "True"
            ]
          },
          "execution_count": 3,
          "metadata": {},
          "output_type": "execute_result"
        }
      ],
      "source": [
        "import nltk\n",
        "nltk.download('vader_lexicon')\n"
      ]
    },
    {
      "cell_type": "code",
      "execution_count": 8,
      "metadata": {},
      "outputs": [
        {
          "name": "stderr",
          "output_type": "stream",
          "text": [
            "All PyTorch model weights were used when initializing TFBertForQuestionAnswering.\n",
            "\n",
            "All the weights of TFBertForQuestionAnswering were initialized from the PyTorch model.\n",
            "If your task is similar to the task the model of the checkpoint was trained on, you can already use TFBertForQuestionAnswering for predictions without further training.\n"
          ]
        },
        {
          "name": "stdout",
          "output_type": "stream",
          "text": [
            " * Serving Flask app '__main__'\n",
            " * Debug mode: off\n"
          ]
        },
        {
          "name": "stderr",
          "output_type": "stream",
          "text": [
            "WARNING: This is a development server. Do not use it in a production deployment. Use a production WSGI server instead.\n",
            " * Running on all addresses (0.0.0.0)\n",
            " * Running on http://127.0.0.1:5200\n",
            " * Running on http://192.168.0.19:5200\n",
            "Press CTRL+C to quit\n",
            "127.0.0.1 - - [28/Sep/2024 21:33:15] \"GET / HTTP/1.1\" 200 -\n",
            "127.0.0.1 - - [28/Sep/2024 21:33:25] \"POST / HTTP/1.1\" 200 -\n"
          ]
        },
        {
          "name": "stdout",
          "output_type": "stream",
          "text": [
            "- ERROR: Could not find a version that satisfies the requirement tensorflow-text (from versions: none) ERROR: No matching distribution found for tensorflow-text\n"
          ]
        },
        {
          "name": "stderr",
          "output_type": "stream",
          "text": [
            "127.0.0.1 - - [28/Sep/2024 21:34:07] \"POST / HTTP/1.1\" 200 -\n"
          ]
        },
        {
          "name": "stdout",
          "output_type": "stream",
          "text": [
            "- Une fois que vous avez suivi ces étapes, réessayez d'exécuter votre application Flask.\n"
          ]
        },
        {
          "name": "stderr",
          "output_type": "stream",
          "text": [
            "127.0.0.1 - - [28/Sep/2024 21:35:25] \"POST / HTTP/1.1\" 200 -\n"
          ]
        },
        {
          "name": "stdout",
          "output_type": "stream",
          "text": [
            "- I’m sorry you’re feeling that way You are showing empathy and understanding towards those who’ve expressed feeling tired to respect their emotions and indicate support for them through whatever they’re going through.\n"
          ]
        }
      ],
      "source": [
        "from flask import Flask, render_template, request\n",
        "import tensorflow as tf\n",
        "from transformers import TFAutoModelForQuestionAnswering, AutoTokenizer\n",
        "import os\n",
        "import numpy as np\n",
        "import networkx as nx\n",
        "from scipy.spatial.distance import cosine as cosine_distance\n",
        "import string\n",
        "import nltk\n",
        "import re\n",
        "from nltk.corpus import stopwords\n",
        "from nltk.sentiment import SentimentIntensityAnalyzer\n",
        "from googletrans import Translator\n",
        "\n",
        "\n",
        "\n",
        "# Charger le modèle pré-entraîné et le tokenizer\n",
        "model_name = \"bert-large-uncased-whole-word-masking-finetuned-squad\"\n",
        "tokenizer = AutoTokenizer.from_pretrained(model_name)\n",
        "model = TFAutoModelForQuestionAnswering.from_pretrained(model_name)\n",
        "\n",
        "# Initialiser l'analyseur de sentiment\n",
        "sia = SentimentIntensityAnalyzer()\n",
        "\n",
        "# Définir l'application Flask\n",
        "app = Flask(__name__)\n",
        "\n",
        "# Fonction pour prétraiter les phrases\n",
        "def preprocess_sentences(text):\n",
        "    processed_text = text.lower()\n",
        "    tokens = []\n",
        "    for token in nltk.word_tokenize(processed_text):\n",
        "        tokens.append(token)\n",
        "    tokens = [word for word in tokens if word not in stopwords.words('english') and word not in string.punctuation]\n",
        "    processed_text = ' '.join(element for element in tokens)\n",
        "    return processed_text\n",
        "\n",
        "# Fonction pour calculer la similarité entre deux phrases\n",
        "def calculate_sentence_similarity(sentence1, sentence2):\n",
        "    words1 = [word for word in nltk.word_tokenize(sentence1)]\n",
        "    words2 = [word for word in nltk.word_tokenize(sentence2)]\n",
        "\n",
        "    all_words = list(set(words1 + words2))\n",
        "\n",
        "    vector1 = [0] * len(all_words)\n",
        "    vector2 = [0] * len(all_words)\n",
        "\n",
        "    for word in words1:\n",
        "        vector1[all_words.index(word)] += 1\n",
        "\n",
        "    for word in words2:\n",
        "        vector2[all_words.index(word)] += 1\n",
        "\n",
        "    return 1 - cosine_distance(vector1, vector2)\n",
        "\n",
        "# Fonction pour créer la matrice de similarité entre les phrases\n",
        "def calculate_similarity_matrix(sentences):\n",
        "    similarity_matrix = np.zeros((len(sentences), len(sentences)))\n",
        "\n",
        "    for i in range(len(sentences)):\n",
        "        for j in range(len(sentences)):\n",
        "            if i == j:\n",
        "                continue\n",
        "            similarity_matrix[i][j] = calculate_sentence_similarity(sentences[i], sentences[j])\n",
        "    return similarity_matrix\n",
        "\n",
        "# Fonction pour résumer le texte\n",
        "def summarize(text, number_of_sentences):\n",
        "    original_sentences = [sentence for sentence in nltk.sent_tokenize(text)]\n",
        "    formatted_sentences = [preprocess_sentences(original_sentence) for original_sentence in original_sentences]\n",
        "    similarity_matrix = calculate_similarity_matrix(formatted_sentences)\n",
        "\n",
        "    similarity_graph = nx.from_numpy_array(similarity_matrix)\n",
        "    scores = nx.pagerank(similarity_graph)\n",
        "    order_scores = sorted(((scores[i], score) for i, score in enumerate(original_sentences)), reverse=True)\n",
        "\n",
        "    best_sentences = []\n",
        "    for score in order_scores:\n",
        "        if score:\n",
        "            cleaned_sentence = score[1].replace('\\r\\n', ' ')  # Remplacer les caractères spéciaux par un espace\n",
        "            best_sentences.append(cleaned_sentence)\n",
        "\n",
        "    return best_sentences[:number_of_sentences]\n",
        "\n",
        "# Fonction pour obtenir le résumé et la réponse\n",
        "def get_summary_and_answer(text, question, num_lines):\n",
        "    summary = summarize(text, num_lines)\n",
        "    \n",
        "    # Tokeniser les inputs\n",
        "    inputs = tokenizer(question, text, return_tensors=\"tf\")\n",
        "    # Obtenir la réponse\n",
        "    outputs = model(inputs)\n",
        "    answer_start_scores = outputs.start_logits\n",
        "    answer_end_scores = outputs.end_logits\n",
        "    # Obtenir la réponse la plus probable\n",
        "    answer_start = tf.argmax(answer_start_scores, axis=1).numpy()[0]\n",
        "    answer_end = tf.argmax(answer_end_scores, axis=1).numpy()[0] + 1\n",
        "    answer = tokenizer.convert_tokens_to_string(tokenizer.convert_ids_to_tokens(inputs[\"input_ids\"].numpy()[0][answer_start:answer_end]))\n",
        "\n",
        "    return summary, answer\n",
        "\n",
        "# Fonction pour analyser le sentiment du texte\n",
        "def analyze_sentiment(text):\n",
        "    return sia.polarity_scores(text)\n",
        "\n",
        " #traduction to fr\n",
        "def translate_text(text, target_language='fr'):\n",
        "    translator = Translator()\n",
        "    translated_text = translator.translate(text, dest=target_language)\n",
        "    return translated_text.text\n",
        "\n",
        "# Route pour la page d'accueil\n",
        "@app.route(\"/\", methods=[\"GET\", \"POST\"])\n",
        "def home():\n",
        "    if request.method == \"POST\":\n",
        "        text = request.form[\"text\"]\n",
        "        translated_text = translate_text(text)\n",
        "        question = request.form[\"question\"]\n",
        "        num_lines = int(request.form[\"num_lines\"])  # Convertir en entier\n",
        "        summary, answer = get_summary_and_answer(text, question, num_lines)\n",
        "        sentiment = analyze_sentiment(text)\n",
        "        summary_lines = []  # Liste pour stocker les lignes du résumé\n",
        "        for sentence in summary:\n",
        "            summary_lines.append(\"- \" + sentence)  # Ajouter un tiret devant chaque phrase du résumé\n",
        "        summary_text = '\\n'.join(summary_lines)  # Convertir la liste en une seule chaîne de caractères avec des sauts de ligne\n",
        "        print(summary_text)  # Afficher le résumé dans la console Flask (pour le débogage)\n",
        "        return render_template(\"index.html\", text=text, question=question, summary=summary, answer=answer, summary_text=summary_text, sentiment=sentiment,translated_text=translated_text)  # Ajouter summary_text et sentiment dans le rendu du modèle HTML\n",
        "    return render_template(\"index.html\")\n",
        "\n",
        "\n",
        "# Exécuter l'application Flask\n",
        "if __name__ == \"__main__\":\n",
        "    port = int(os.environ.get(\"PORT\", 5200))\n",
        "    app.run(host=\"0.0.0.0\", port=port)\n"
      ]
    }
  ],
  "metadata": {
    "colab": {
      "provenance": []
    },
    "interpreter": {
      "hash": "63fd5069d213b44bf678585dea6b12cceca9941eaf7f819626cde1f2670de90d"
    },
    "kernelspec": {
      "display_name": "Python 3.9.6 64-bit",
      "name": "python3"
    },
    "language_info": {
      "codemirror_mode": {
        "name": "ipython",
        "version": 3
      },
      "file_extension": ".py",
      "mimetype": "text/x-python",
      "name": "python",
      "nbconvert_exporter": "python",
      "pygments_lexer": "ipython3",
      "version": "3.12.4"
    },
    "orig_nbformat": 4
  },
  "nbformat": 4,
  "nbformat_minor": 0
}
